{
 "cells": [
  {
   "cell_type": "code",
   "execution_count": null,
   "id": "330f213f",
   "metadata": {},
   "outputs": [],
   "source": []
  },
  {
   "cell_type": "code",
   "execution_count": 11,
   "id": "ccc2ba64",
   "metadata": {},
   "outputs": [],
   "source": [
    "import requests\n",
    "from bs4 import BeautifulSoup\n",
    "import pymongo\n",
    "from pymongo import MongoClient\n",
    "\n",
    "client = MongoClient()\n",
    "\n",
    "URL = \"https://www.theguardian.com/international\"\n",
    "page = requests.get(URL)\n",
    "\n",
    "soup = BeautifulSoup(page.content, \"html.parser\")"
   ]
  },
  {
   "cell_type": "code",
   "execution_count": 12,
   "id": "6a80c8b2",
   "metadata": {},
   "outputs": [],
   "source": [
    "ArticleHeaders = []\n",
    "ArticleLinks = []\n",
    "ArticleText = []\n",
    "ArticleAuthor = []\n",
    "ArticleDate = []"
   ]
  },
  {
   "cell_type": "code",
   "execution_count": 17,
   "id": "9bd92396",
   "metadata": {
    "scrolled": true
   },
   "outputs": [
    {
     "name": "stdout",
     "output_type": "stream",
     "text": [
      "['Lucy Campbell', 'Ed Pilkington', 'Eva Corlett', \"Lisa O'Carroll\", 'no author', 'Royce Kurmelovs', 'Joan E Greve', 'Alison Flood', 'Matthew Weaver', 'Alexandra Villarreal', 'David Jesudason', 'Kaamil Ahmed', 'Stuart Heritage', 'Niko Kommenda', 'Lizzie Cernik', 'Niall Doherty', 'Mattha Busby', 'no author', 'Martin Pengelly', 'Martin Pengelly', 'Max Rushden', 'no author', 'Ewan Murray', 'Andy Brassell', 'no author', 'Jonathan Wilson', 'Simon Jenkins', 'Rebecca Solnit', 'Emma Brockes', 'Jeffrey Frankel', 'Nesrine Malik', 'no author', 'Larry Elliott', 'Nick Estes', 'no author', 'Maanvi Singh', 'Flávia Milhorance', 'Helena Smith', 'Martin Pengelly', 'Helen Davidson', 'Jason Wilson', 'no author', 'no author', 'Sam Levin', 'Jasper Jolly', 'Richard Partington', 'Andrew Sparrow', 'Harriet Sherwood', 'Andrew Male', 'Stuart Jeffries', 'Phil Hoad', 'no author', 'no author', 'Phuong Le', 'Remona Aly', 'Rachel Roddy', 'Megan Clement', 'Thomasina Miers', 'Stuart Heritage', 'Emma Beddington', 'Moulid Hujale', 'Ashifa Kassam', 'David Smith', 'Sirin Kale', 'no author', 'Emma Graham-Harrison', 'Guardian community team', 'no author', 'Guardian community team', 'The Guardian', 'Joe Plimmer', 'no author', 'no author', 'no author', 'Matt Fidler', 'Georgina Quach', 'Lucy Campbell', 'Ed Pilkington', 'Eva Corlett', \"Lisa O'Carroll\", 'no author', 'Royce Kurmelovs', 'Joan E Greve', 'Alison Flood', 'Matthew Weaver', 'Alexandra Villarreal', 'David Jesudason', 'Kaamil Ahmed', 'Stuart Heritage', 'Niko Kommenda', 'Lizzie Cernik', 'Niall Doherty', 'Mattha Busby', 'no author', 'Martin Pengelly', 'Martin Pengelly', 'Max Rushden', 'no author', 'Ewan Murray', 'Andy Brassell', 'no author', 'Jonathan Wilson', 'Simon Jenkins', 'Rebecca Solnit', 'Emma Brockes', 'Jeffrey Frankel', 'Nesrine Malik', 'no author', 'Larry Elliott', 'Nick Estes', 'no author', 'Maanvi Singh', 'Flávia Milhorance', 'Helena Smith', 'Martin Pengelly', 'Helen Davidson', 'Jason Wilson', 'no author', 'no author', 'Sam Levin', 'Jasper Jolly', 'Richard Partington', 'Andrew Sparrow', 'Harriet Sherwood', 'Andrew Male', 'Stuart Jeffries', 'Phil Hoad', 'no author', 'no author', 'Phuong Le', 'Remona Aly', 'Rachel Roddy', 'Megan Clement', 'Thomasina Miers', 'Stuart Heritage', 'Emma Beddington', 'Moulid Hujale', 'Ashifa Kassam', 'David Smith', 'Sirin Kale', 'no author', 'Emma Graham-Harrison', 'Guardian community team', 'no author', 'Guardian community team', 'The Guardian', 'Joe Plimmer', 'no author', 'no author', 'no author', 'Matt Fidler', 'Georgina Quach']\n"
     ]
    }
   ],
   "source": [
    "news = soup.find_all(\"div\", class_=\"fc-item__container\")\n",
    "\n",
    "for news_content in news:\n",
    "    \n",
    "    \n",
    "#Get Headlines and Links\n",
    "    news = news_content.find(\"a\")\n",
    "    #print(news.text.strip())\n",
    "    #print(news[\"href\"])\n",
    "    ArticleHeaders.append(news.text.strip())\n",
    "    ArticleLinks.append(news[\"href\"])\n",
    "    \n",
    "\n",
    "#Getting Article Text\n",
    "    articleURL = requests.get(news[\"href\"])\n",
    "    article = BeautifulSoup(articleURL.content, \"html.parser\")\n",
    "    articleText = article.find_all(\"p\", class_=\"dcr-s23rjr\")\n",
    "    for text in articleText:\n",
    "        #print(text.text.strip())\n",
    "        ArticleText.append(text.text.strip())\n",
    "    \n",
    "    \n",
    " #Finding Author\n",
    "    articleAuthor = article.find(\"a\", rel = \"author\")\n",
    "    try: \n",
    "        #print(articleAuthor.text.strip())\n",
    "        ArticleAuthor.append(articleAuthor.text.strip())\n",
    "    except:\n",
    "        #print(\"no author\")\n",
    "        ArticleAuthor.append(\"no author\")\n",
    "    \n",
    "    \n",
    "#Get Date & Time\n",
    "    DateTime = article.find(\"div\", class_=\"dcr-18svo86\")\n",
    "    try:\n",
    "        #print(DateTime.text.strip())\n",
    "        ArticleDate.append(DateTime.text.strip())\n",
    "    except:\n",
    "        #print(\"no date\")\n",
    "        ArticleDate.append(\"no date\")\n",
    "\n",
    "   "
   ]
  },
  {
   "cell_type": "code",
   "execution_count": null,
   "id": "37ccb103",
   "metadata": {},
   "outputs": [],
   "source": []
  },
  {
   "cell_type": "code",
   "execution_count": null,
   "id": "cf5461f7",
   "metadata": {},
   "outputs": [],
   "source": []
  },
  {
   "cell_type": "code",
   "execution_count": null,
   "id": "02fae76d",
   "metadata": {},
   "outputs": [],
   "source": []
  },
  {
   "cell_type": "code",
   "execution_count": null,
   "id": "6f54d79b",
   "metadata": {},
   "outputs": [],
   "source": []
  }
 ],
 "metadata": {
  "kernelspec": {
   "display_name": "Python 3 (ipykernel)",
   "language": "python",
   "name": "python3"
  },
  "language_info": {
   "codemirror_mode": {
    "name": "ipython",
    "version": 3
   },
   "file_extension": ".py",
   "mimetype": "text/x-python",
   "name": "python",
   "nbconvert_exporter": "python",
   "pygments_lexer": "ipython3",
   "version": "3.9.6"
  }
 },
 "nbformat": 4,
 "nbformat_minor": 5
}
