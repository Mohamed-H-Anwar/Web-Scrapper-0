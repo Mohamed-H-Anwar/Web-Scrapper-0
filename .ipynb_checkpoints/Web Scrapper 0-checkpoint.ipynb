{
 "cells": [
  {
   "cell_type": "code",
   "execution_count": null,
   "id": "330f213f",
   "metadata": {},
   "outputs": [],
   "source": []
  },
  {
   "cell_type": "code",
   "execution_count": 20,
   "id": "ccc2ba64",
   "metadata": {},
   "outputs": [
    {
     "ename": "ConfigurationError",
     "evalue": "The \"dnspython\" module must be installed to use mongodb+srv:// URIs. To fix this error install pymongo with the srv extra:\n c:\\users\\moham\\appdata\\local\\programs\\python\\python39\\python.exe -m pip install \"pymongo[srv]\"",
     "output_type": "error",
     "traceback": [
      "\u001b[1;31m---------------------------------------------------------------------------\u001b[0m",
      "\u001b[1;31mConfigurationError\u001b[0m                        Traceback (most recent call last)",
      "\u001b[1;32m~\\AppData\\Local\\Temp/ipykernel_22924/2643700521.py\u001b[0m in \u001b[0;36m<module>\u001b[1;34m\u001b[0m\n\u001b[0;32m      5\u001b[0m \u001b[1;32mimport\u001b[0m \u001b[0mcsv\u001b[0m\u001b[1;33m\u001b[0m\u001b[1;33m\u001b[0m\u001b[0m\n\u001b[0;32m      6\u001b[0m \u001b[1;33m\u001b[0m\u001b[0m\n\u001b[1;32m----> 7\u001b[1;33m \u001b[0mclient\u001b[0m \u001b[1;33m=\u001b[0m \u001b[0mpymongo\u001b[0m\u001b[1;33m.\u001b[0m\u001b[0mMongoClient\u001b[0m\u001b[1;33m(\u001b[0m\u001b[1;34m\"mongodb+srv://Amadeus:<CodeLyoko221>@cluster0.hjjpe.mongodb.net/myFirstDatabase?retryWrites=true&w=majority\"\u001b[0m\u001b[1;33m)\u001b[0m\u001b[1;33m\u001b[0m\u001b[1;33m\u001b[0m\u001b[0m\n\u001b[0m\u001b[0;32m      8\u001b[0m \u001b[1;33m\u001b[0m\u001b[0m\n\u001b[0;32m      9\u001b[0m \u001b[0mURL\u001b[0m \u001b[1;33m=\u001b[0m \u001b[1;34m\"https://www.theguardian.com/international\"\u001b[0m\u001b[1;33m\u001b[0m\u001b[1;33m\u001b[0m\u001b[0m\n",
      "\u001b[1;32mc:\\users\\moham\\appdata\\local\\programs\\python\\python39\\lib\\site-packages\\pymongo\\mongo_client.py\u001b[0m in \u001b[0;36m__init__\u001b[1;34m(self, host, port, document_class, tz_aware, connect, type_registry, **kwargs)\u001b[0m\n\u001b[0;32m    668\u001b[0m                     timeout = common.validate_timeout_or_none_or_zero(\n\u001b[0;32m    669\u001b[0m                         keyword_opts.cased_key(\"connecttimeoutms\"), timeout)\n\u001b[1;32m--> 670\u001b[1;33m                 res = uri_parser.parse_uri(\n\u001b[0m\u001b[0;32m    671\u001b[0m                     \u001b[0mentity\u001b[0m\u001b[1;33m,\u001b[0m \u001b[0mport\u001b[0m\u001b[1;33m,\u001b[0m \u001b[0mvalidate\u001b[0m\u001b[1;33m=\u001b[0m\u001b[1;32mTrue\u001b[0m\u001b[1;33m,\u001b[0m \u001b[0mwarn\u001b[0m\u001b[1;33m=\u001b[0m\u001b[1;32mTrue\u001b[0m\u001b[1;33m,\u001b[0m \u001b[0mnormalize\u001b[0m\u001b[1;33m=\u001b[0m\u001b[1;32mFalse\u001b[0m\u001b[1;33m,\u001b[0m\u001b[1;33m\u001b[0m\u001b[1;33m\u001b[0m\u001b[0m\n\u001b[0;32m    672\u001b[0m                     connect_timeout=timeout)\n",
      "\u001b[1;32mc:\\users\\moham\\appdata\\local\\programs\\python\\python39\\lib\\site-packages\\pymongo\\uri_parser.py\u001b[0m in \u001b[0;36mparse_uri\u001b[1;34m(uri, default_port, validate, warn, normalize, connect_timeout)\u001b[0m\n\u001b[0;32m    447\u001b[0m         \u001b[1;32mif\u001b[0m \u001b[1;32mnot\u001b[0m \u001b[0m_HAVE_DNSPYTHON\u001b[0m\u001b[1;33m:\u001b[0m\u001b[1;33m\u001b[0m\u001b[1;33m\u001b[0m\u001b[0m\n\u001b[0;32m    448\u001b[0m             \u001b[0mpython_path\u001b[0m \u001b[1;33m=\u001b[0m \u001b[0msys\u001b[0m\u001b[1;33m.\u001b[0m\u001b[0mexecutable\u001b[0m \u001b[1;32mor\u001b[0m \u001b[1;34m\"python\"\u001b[0m\u001b[1;33m\u001b[0m\u001b[1;33m\u001b[0m\u001b[0m\n\u001b[1;32m--> 449\u001b[1;33m             raise ConfigurationError(\n\u001b[0m\u001b[0;32m    450\u001b[0m                 \u001b[1;34m'The \"dnspython\" module must be '\u001b[0m\u001b[1;33m\u001b[0m\u001b[1;33m\u001b[0m\u001b[0m\n\u001b[0;32m    451\u001b[0m                 \u001b[1;34m'installed to use mongodb+srv:// URIs. '\u001b[0m\u001b[1;33m\u001b[0m\u001b[1;33m\u001b[0m\u001b[0m\n",
      "\u001b[1;31mConfigurationError\u001b[0m: The \"dnspython\" module must be installed to use mongodb+srv:// URIs. To fix this error install pymongo with the srv extra:\n c:\\users\\moham\\appdata\\local\\programs\\python\\python39\\python.exe -m pip install \"pymongo[srv]\""
     ]
    }
   ],
   "source": [
    "import requests\n",
    "from bs4 import BeautifulSoup\n",
    "import pymongo\n",
    "import hashlib\n",
    "import csv\n",
    "\n",
    "client = pymongo.MongoClient(\"mongodb+srv://Amadeus:<CodeLyoko221>@cluster0.hjjpe.mongodb.net/myFirstDatabase?retryWrites=true&w=majority\")\n",
    "\n",
    "URL = \"https://www.theguardian.com/international\"\n",
    "page = requests.get(URL)\n",
    "\n",
    "soup = BeautifulSoup(page.content, \"html.parser\")"
   ]
  },
  {
   "cell_type": "code",
   "execution_count": 12,
   "id": "6a80c8b2",
   "metadata": {},
   "outputs": [],
   "source": [
    "ArticleHeaders = []\n",
    "ArticleLinks = []\n",
    "ArticleText = []\n",
    "ArticleAuthor = []\n",
    "ArticleDate = []"
   ]
  },
  {
   "cell_type": "code",
   "execution_count": 17,
   "id": "9bd92396",
   "metadata": {
    "scrolled": true
   },
   "outputs": [
    {
     "name": "stdout",
     "output_type": "stream",
     "text": [
      "['Lucy Campbell', 'Ed Pilkington', 'Eva Corlett', \"Lisa O'Carroll\", 'no author', 'Royce Kurmelovs', 'Joan E Greve', 'Alison Flood', 'Matthew Weaver', 'Alexandra Villarreal', 'David Jesudason', 'Kaamil Ahmed', 'Stuart Heritage', 'Niko Kommenda', 'Lizzie Cernik', 'Niall Doherty', 'Mattha Busby', 'no author', 'Martin Pengelly', 'Martin Pengelly', 'Max Rushden', 'no author', 'Ewan Murray', 'Andy Brassell', 'no author', 'Jonathan Wilson', 'Simon Jenkins', 'Rebecca Solnit', 'Emma Brockes', 'Jeffrey Frankel', 'Nesrine Malik', 'no author', 'Larry Elliott', 'Nick Estes', 'no author', 'Maanvi Singh', 'Flávia Milhorance', 'Helena Smith', 'Martin Pengelly', 'Helen Davidson', 'Jason Wilson', 'no author', 'no author', 'Sam Levin', 'Jasper Jolly', 'Richard Partington', 'Andrew Sparrow', 'Harriet Sherwood', 'Andrew Male', 'Stuart Jeffries', 'Phil Hoad', 'no author', 'no author', 'Phuong Le', 'Remona Aly', 'Rachel Roddy', 'Megan Clement', 'Thomasina Miers', 'Stuart Heritage', 'Emma Beddington', 'Moulid Hujale', 'Ashifa Kassam', 'David Smith', 'Sirin Kale', 'no author', 'Emma Graham-Harrison', 'Guardian community team', 'no author', 'Guardian community team', 'The Guardian', 'Joe Plimmer', 'no author', 'no author', 'no author', 'Matt Fidler', 'Georgina Quach', 'Lucy Campbell', 'Ed Pilkington', 'Eva Corlett', \"Lisa O'Carroll\", 'no author', 'Royce Kurmelovs', 'Joan E Greve', 'Alison Flood', 'Matthew Weaver', 'Alexandra Villarreal', 'David Jesudason', 'Kaamil Ahmed', 'Stuart Heritage', 'Niko Kommenda', 'Lizzie Cernik', 'Niall Doherty', 'Mattha Busby', 'no author', 'Martin Pengelly', 'Martin Pengelly', 'Max Rushden', 'no author', 'Ewan Murray', 'Andy Brassell', 'no author', 'Jonathan Wilson', 'Simon Jenkins', 'Rebecca Solnit', 'Emma Brockes', 'Jeffrey Frankel', 'Nesrine Malik', 'no author', 'Larry Elliott', 'Nick Estes', 'no author', 'Maanvi Singh', 'Flávia Milhorance', 'Helena Smith', 'Martin Pengelly', 'Helen Davidson', 'Jason Wilson', 'no author', 'no author', 'Sam Levin', 'Jasper Jolly', 'Richard Partington', 'Andrew Sparrow', 'Harriet Sherwood', 'Andrew Male', 'Stuart Jeffries', 'Phil Hoad', 'no author', 'no author', 'Phuong Le', 'Remona Aly', 'Rachel Roddy', 'Megan Clement', 'Thomasina Miers', 'Stuart Heritage', 'Emma Beddington', 'Moulid Hujale', 'Ashifa Kassam', 'David Smith', 'Sirin Kale', 'no author', 'Emma Graham-Harrison', 'Guardian community team', 'no author', 'Guardian community team', 'The Guardian', 'Joe Plimmer', 'no author', 'no author', 'no author', 'Matt Fidler', 'Georgina Quach']\n"
     ]
    }
   ],
   "source": [
    "news = soup.find_all(\"div\", class_=\"fc-item__container\")\n",
    "\n",
    "for news_content in news:\n",
    "    \n",
    "    \n",
    "#Get Headlines and Links\n",
    "    news = news_content.find(\"a\")\n",
    "    #print(news.text.strip())\n",
    "    #print(news[\"href\"])\n",
    "    ArticleHeaders.append(news.text.strip())\n",
    "    ArticleLinks.append(news[\"href\"])\n",
    "    \n",
    "\n",
    "#Getting Article Text\n",
    "    articleURL = requests.get(news[\"href\"])\n",
    "    article = BeautifulSoup(articleURL.content, \"html.parser\")\n",
    "    articleText = article.find_all(\"p\", class_=\"dcr-s23rjr\")\n",
    "    for text in articleText:\n",
    "        #print(text.text.strip())\n",
    "        ArticleText.append(text.text.strip())\n",
    "    \n",
    "    \n",
    " #Finding Author\n",
    "    articleAuthor = article.find(\"a\", rel = \"author\")\n",
    "    try: \n",
    "        #print(articleAuthor.text.strip())\n",
    "        ArticleAuthor.append(articleAuthor.text.strip())\n",
    "    except:\n",
    "        #print(\"no author\")\n",
    "        ArticleAuthor.append(\"no author\")\n",
    "    \n",
    "    \n",
    "#Get Date & Time\n",
    "    DateTime = article.find(\"div\", class_=\"dcr-18svo86\")\n",
    "    try:\n",
    "        #print(DateTime.text.strip())\n",
    "        ArticleDate.append(DateTime.text.strip())\n",
    "    except:\n",
    "        #print(\"no date\")\n",
    "        ArticleDate.append(\"no date\")\n",
    "\n",
    "   "
   ]
  },
  {
   "cell_type": "code",
   "execution_count": null,
   "id": "37ccb103",
   "metadata": {},
   "outputs": [],
   "source": []
  },
  {
   "cell_type": "code",
   "execution_count": null,
   "id": "cf5461f7",
   "metadata": {},
   "outputs": [],
   "source": []
  },
  {
   "cell_type": "code",
   "execution_count": null,
   "id": "02fae76d",
   "metadata": {},
   "outputs": [],
   "source": []
  },
  {
   "cell_type": "code",
   "execution_count": null,
   "id": "6f54d79b",
   "metadata": {},
   "outputs": [],
   "source": []
  }
 ],
 "metadata": {
  "kernelspec": {
   "display_name": "Python 3 (ipykernel)",
   "language": "python",
   "name": "python3"
  },
  "language_info": {
   "codemirror_mode": {
    "name": "ipython",
    "version": 3
   },
   "file_extension": ".py",
   "mimetype": "text/x-python",
   "name": "python",
   "nbconvert_exporter": "python",
   "pygments_lexer": "ipython3",
   "version": "3.9.6"
  }
 },
 "nbformat": 4,
 "nbformat_minor": 5
}
